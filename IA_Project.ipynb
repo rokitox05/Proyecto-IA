{
  "cells": [
    {
      "cell_type": "code",
      "execution_count": null,
      "metadata": {
        "cellView": "form",
        "id": "5AQGTIkWsjUh"
      },
      "outputs": [],
      "source": [
        "#@title **Integrantes:** \n",
        "#@markdown Miguel Daniel Velandia Pinilla - 2182073 \\\n",
        "#@markdown Juan Sebastian Espinosa Espinosa - 2183184 \\\n",
        "#@markdown Juan Daniel Suarez Jaimes - 2182043"
      ]
    },
    {
      "cell_type": "code",
      "execution_count": null,
      "metadata": {
        "id": "e68cPXYa4BWy",
        "colab": {
          "base_uri": "https://localhost:8080/"
        },
        "outputId": "90ad0b6e-64a9-43f8-98c0-08ad11932c4d"
      },
      "outputs": [
        {
          "output_type": "stream",
          "name": "stdout",
          "text": [
            "Mounted at /content/drive\n",
            "/content/drive/My Drive\n"
          ]
        }
      ],
      "source": [
        "#@title **Drive** { display-mode: \"form\" }\n",
        "import os\n",
        "from google.colab import drive\n",
        "drive.mount('/content/drive')\n",
        "os.chdir('/content/drive/My Drive')\n",
        "print(os.getcwd())"
      ]
    },
    {
      "cell_type": "code",
      "execution_count": null,
      "metadata": {
        "id": "9F18v7X74i3g"
      },
      "outputs": [],
      "source": [
        "#@title 2. **Librerias** { display-mode: \"form\" }\n",
        "from __future__ import division, print_function, unicode_literals #py2 and py3\n",
        "import numpy as np\n",
        "import pandas as pd\n",
        "import matplotlib.pyplot as plt\n",
        "import scipy.stats as stats\n",
        "import seaborn as sns\n",
        "sns.set_theme()\n",
        "from sklearn.model_selection import KFold\n",
        "from sklearn.metrics import *\n",
        "from sklearn.naive_bayes import GaussianNB\n",
        "from sklearn.model_selection import cross_val_score\n",
        "from sklearn.model_selection import train_test_split\n",
        "from sklearn.tree import DecisionTreeClassifier\n",
        "from sklearn.model_selection import KFold\n",
        "from sklearn.ensemble import RandomForestClassifier\n",
        "from sklearn.svm import SVC\n",
        "from sklearn.tree import export_graphviz\n",
        "from IPython.display import Image\n",
        "from sklearn.tree import DecisionTreeRegressor\n",
        "from sklearn.ensemble import RandomForestRegressor"
      ]
    },
    {
      "cell_type": "code",
      "execution_count": null,
      "metadata": {
        "id": "CP26w9cE4ygQ",
        "colab": {
          "base_uri": "https://localhost:8080/",
          "height": 224
        },
        "outputId": "ff6809ab-8e3b-475c-840e-040e74edccdb"
      },
      "outputs": [
        {
          "output_type": "stream",
          "name": "stdout",
          "text": [
            "(16598, 11)\n"
          ]
        },
        {
          "output_type": "execute_result",
          "data": {
            "text/plain": [
              "   Rank                      Name Platform    Year         Genre Publisher  \\\n",
              "0     1                Wii Sports      Wii  2006.0        Sports  Nintendo   \n",
              "1     2         Super Mario Bros.      NES  1985.0      Platform  Nintendo   \n",
              "2     3            Mario Kart Wii      Wii  2008.0        Racing  Nintendo   \n",
              "3     4         Wii Sports Resort      Wii  2009.0        Sports  Nintendo   \n",
              "4     5  Pokemon Red/Pokemon Blue       GB  1996.0  Role-Playing  Nintendo   \n",
              "\n",
              "   NA_Sales  EU_Sales  JP_Sales  Other_Sales  Global_Sales  \n",
              "0     41.49     29.02      3.77         8.46         82.74  \n",
              "1     29.08      3.58      6.81         0.77         40.24  \n",
              "2     15.85     12.88      3.79         3.31         35.82  \n",
              "3     15.75     11.01      3.28         2.96         33.00  \n",
              "4     11.27      8.89     10.22         1.00         31.37  "
            ],
            "text/html": [
              "\n",
              "  <div id=\"df-26b95e29-3f24-47a8-b2ab-41d7e165d57f\">\n",
              "    <div class=\"colab-df-container\">\n",
              "      <div>\n",
              "<style scoped>\n",
              "    .dataframe tbody tr th:only-of-type {\n",
              "        vertical-align: middle;\n",
              "    }\n",
              "\n",
              "    .dataframe tbody tr th {\n",
              "        vertical-align: top;\n",
              "    }\n",
              "\n",
              "    .dataframe thead th {\n",
              "        text-align: right;\n",
              "    }\n",
              "</style>\n",
              "<table border=\"1\" class=\"dataframe\">\n",
              "  <thead>\n",
              "    <tr style=\"text-align: right;\">\n",
              "      <th></th>\n",
              "      <th>Rank</th>\n",
              "      <th>Name</th>\n",
              "      <th>Platform</th>\n",
              "      <th>Year</th>\n",
              "      <th>Genre</th>\n",
              "      <th>Publisher</th>\n",
              "      <th>NA_Sales</th>\n",
              "      <th>EU_Sales</th>\n",
              "      <th>JP_Sales</th>\n",
              "      <th>Other_Sales</th>\n",
              "      <th>Global_Sales</th>\n",
              "    </tr>\n",
              "  </thead>\n",
              "  <tbody>\n",
              "    <tr>\n",
              "      <th>0</th>\n",
              "      <td>1</td>\n",
              "      <td>Wii Sports</td>\n",
              "      <td>Wii</td>\n",
              "      <td>2006.0</td>\n",
              "      <td>Sports</td>\n",
              "      <td>Nintendo</td>\n",
              "      <td>41.49</td>\n",
              "      <td>29.02</td>\n",
              "      <td>3.77</td>\n",
              "      <td>8.46</td>\n",
              "      <td>82.74</td>\n",
              "    </tr>\n",
              "    <tr>\n",
              "      <th>1</th>\n",
              "      <td>2</td>\n",
              "      <td>Super Mario Bros.</td>\n",
              "      <td>NES</td>\n",
              "      <td>1985.0</td>\n",
              "      <td>Platform</td>\n",
              "      <td>Nintendo</td>\n",
              "      <td>29.08</td>\n",
              "      <td>3.58</td>\n",
              "      <td>6.81</td>\n",
              "      <td>0.77</td>\n",
              "      <td>40.24</td>\n",
              "    </tr>\n",
              "    <tr>\n",
              "      <th>2</th>\n",
              "      <td>3</td>\n",
              "      <td>Mario Kart Wii</td>\n",
              "      <td>Wii</td>\n",
              "      <td>2008.0</td>\n",
              "      <td>Racing</td>\n",
              "      <td>Nintendo</td>\n",
              "      <td>15.85</td>\n",
              "      <td>12.88</td>\n",
              "      <td>3.79</td>\n",
              "      <td>3.31</td>\n",
              "      <td>35.82</td>\n",
              "    </tr>\n",
              "    <tr>\n",
              "      <th>3</th>\n",
              "      <td>4</td>\n",
              "      <td>Wii Sports Resort</td>\n",
              "      <td>Wii</td>\n",
              "      <td>2009.0</td>\n",
              "      <td>Sports</td>\n",
              "      <td>Nintendo</td>\n",
              "      <td>15.75</td>\n",
              "      <td>11.01</td>\n",
              "      <td>3.28</td>\n",
              "      <td>2.96</td>\n",
              "      <td>33.00</td>\n",
              "    </tr>\n",
              "    <tr>\n",
              "      <th>4</th>\n",
              "      <td>5</td>\n",
              "      <td>Pokemon Red/Pokemon Blue</td>\n",
              "      <td>GB</td>\n",
              "      <td>1996.0</td>\n",
              "      <td>Role-Playing</td>\n",
              "      <td>Nintendo</td>\n",
              "      <td>11.27</td>\n",
              "      <td>8.89</td>\n",
              "      <td>10.22</td>\n",
              "      <td>1.00</td>\n",
              "      <td>31.37</td>\n",
              "    </tr>\n",
              "  </tbody>\n",
              "</table>\n",
              "</div>\n",
              "      <button class=\"colab-df-convert\" onclick=\"convertToInteractive('df-26b95e29-3f24-47a8-b2ab-41d7e165d57f')\"\n",
              "              title=\"Convert this dataframe to an interactive table.\"\n",
              "              style=\"display:none;\">\n",
              "        \n",
              "  <svg xmlns=\"http://www.w3.org/2000/svg\" height=\"24px\"viewBox=\"0 0 24 24\"\n",
              "       width=\"24px\">\n",
              "    <path d=\"M0 0h24v24H0V0z\" fill=\"none\"/>\n",
              "    <path d=\"M18.56 5.44l.94 2.06.94-2.06 2.06-.94-2.06-.94-.94-2.06-.94 2.06-2.06.94zm-11 1L8.5 8.5l.94-2.06 2.06-.94-2.06-.94L8.5 2.5l-.94 2.06-2.06.94zm10 10l.94 2.06.94-2.06 2.06-.94-2.06-.94-.94-2.06-.94 2.06-2.06.94z\"/><path d=\"M17.41 7.96l-1.37-1.37c-.4-.4-.92-.59-1.43-.59-.52 0-1.04.2-1.43.59L10.3 9.45l-7.72 7.72c-.78.78-.78 2.05 0 2.83L4 21.41c.39.39.9.59 1.41.59.51 0 1.02-.2 1.41-.59l7.78-7.78 2.81-2.81c.8-.78.8-2.07 0-2.86zM5.41 20L4 18.59l7.72-7.72 1.47 1.35L5.41 20z\"/>\n",
              "  </svg>\n",
              "      </button>\n",
              "      \n",
              "  <style>\n",
              "    .colab-df-container {\n",
              "      display:flex;\n",
              "      flex-wrap:wrap;\n",
              "      gap: 12px;\n",
              "    }\n",
              "\n",
              "    .colab-df-convert {\n",
              "      background-color: #E8F0FE;\n",
              "      border: none;\n",
              "      border-radius: 50%;\n",
              "      cursor: pointer;\n",
              "      display: none;\n",
              "      fill: #1967D2;\n",
              "      height: 32px;\n",
              "      padding: 0 0 0 0;\n",
              "      width: 32px;\n",
              "    }\n",
              "\n",
              "    .colab-df-convert:hover {\n",
              "      background-color: #E2EBFA;\n",
              "      box-shadow: 0px 1px 2px rgba(60, 64, 67, 0.3), 0px 1px 3px 1px rgba(60, 64, 67, 0.15);\n",
              "      fill: #174EA6;\n",
              "    }\n",
              "\n",
              "    [theme=dark] .colab-df-convert {\n",
              "      background-color: #3B4455;\n",
              "      fill: #D2E3FC;\n",
              "    }\n",
              "\n",
              "    [theme=dark] .colab-df-convert:hover {\n",
              "      background-color: #434B5C;\n",
              "      box-shadow: 0px 1px 3px 1px rgba(0, 0, 0, 0.15);\n",
              "      filter: drop-shadow(0px 1px 2px rgba(0, 0, 0, 0.3));\n",
              "      fill: #FFFFFF;\n",
              "    }\n",
              "  </style>\n",
              "\n",
              "      <script>\n",
              "        const buttonEl =\n",
              "          document.querySelector('#df-26b95e29-3f24-47a8-b2ab-41d7e165d57f button.colab-df-convert');\n",
              "        buttonEl.style.display =\n",
              "          google.colab.kernel.accessAllowed ? 'block' : 'none';\n",
              "\n",
              "        async function convertToInteractive(key) {\n",
              "          const element = document.querySelector('#df-26b95e29-3f24-47a8-b2ab-41d7e165d57f');\n",
              "          const dataTable =\n",
              "            await google.colab.kernel.invokeFunction('convertToInteractive',\n",
              "                                                     [key], {});\n",
              "          if (!dataTable) return;\n",
              "\n",
              "          const docLinkHtml = 'Like what you see? Visit the ' +\n",
              "            '<a target=\"_blank\" href=https://colab.research.google.com/notebooks/data_table.ipynb>data table notebook</a>'\n",
              "            + ' to learn more about interactive tables.';\n",
              "          element.innerHTML = '';\n",
              "          dataTable['output_type'] = 'display_data';\n",
              "          await google.colab.output.renderOutput(dataTable, element);\n",
              "          const docLink = document.createElement('div');\n",
              "          docLink.innerHTML = docLinkHtml;\n",
              "          element.appendChild(docLink);\n",
              "        }\n",
              "      </script>\n",
              "    </div>\n",
              "  </div>\n",
              "  "
            ]
          },
          "metadata": {},
          "execution_count": 5
        }
      ],
      "source": [
        "#@title **Dataset** Cargarlo\n",
        "t = pd.read_csv(\"dataset.csv\")\n",
        "print(t.shape)\n",
        "t = t.dropna()\n",
        "t.head()"
      ]
    },
    {
      "cell_type": "code",
      "execution_count": null,
      "metadata": {
        "id": "hCZWecOXjwXQ"
      },
      "outputs": [],
      "source": []
    },
    {
      "cell_type": "code",
      "execution_count": null,
      "metadata": {
        "id": "wqYatXbkjzto",
        "colab": {
          "base_uri": "https://localhost:8080/",
          "height": 706
        },
        "outputId": "6406b339-84e5-422e-e7ae-df540c4595e8"
      },
      "outputs": [
        {
          "output_type": "execute_result",
          "data": {
            "text/plain": [
              "(array([ 0,  1,  2,  3,  4,  5,  6,  7,  8,  9, 10, 11]),\n",
              " <a list of 12 Text major ticklabel objects>)"
            ]
          },
          "metadata": {},
          "execution_count": 6
        },
        {
          "output_type": "display_data",
          "data": {
            "text/plain": [
              "<Figure size 1080x720 with 1 Axes>"
            ],
            "image/png": "[encoded data removed]"
          },
          "metadata": {}
        }
      ],
      "source": [
        "#@title ¿Que genero de juegos han sido los mas creados?\n",
        "t['Genre'].value_counts()\n",
        "plt.figure(figsize=(15, 10))\n",
        "sns.countplot(x=\"Genre\", data=t, order = t['Genre'].value_counts().index)\n",
        "plt.xticks(rotation=90)"
      ]
    },
    {
      "cell_type": "code",
      "execution_count": null,
      "metadata": {
        "id": "JdHOHl8Tj7YZ",
        "colab": {
          "base_uri": "https://localhost:8080/",
          "height": 706
        },
        "outputId": "3516014a-910b-4558-fa3f-c372b3c521b6"
      },
      "outputs": [
        {
          "output_type": "execute_result",
          "data": {
            "text/plain": [
              "(array([ 0,  1,  2,  3,  4,  5,  6,  7,  8,  9, 10, 11]),\n",
              " <a list of 12 Text major ticklabel objects>)"
            ]
          },
          "metadata": {},
          "execution_count": 7
        },
        {
          "output_type": "display_data",
          "data": {
            "text/plain": [
              "<Figure size 1080x720 with 1 Axes>"
            ],
            "image/png": "[encoded data removed]"
          },
          "metadata": {}
        }
      ],
      "source": [
        "#@title ¿Cuales generos de juegos tienen las mayores ventas globalmente?\n",
        "t_genre = t.groupby(by=['Genre'])['Global_Sales'].sum()\n",
        "t_genre = t_genre.reset_index()\n",
        "t_genre = t_genre.sort_values(by=['Global_Sales'], ascending=False)\n",
        "plt.figure(figsize=(15, 10))\n",
        "sns.barplot(x=\"Genre\", y=\"Global_Sales\", data=t_genre)\n",
        "plt.xticks(rotation=90)"
      ]
    },
    {
      "cell_type": "code",
      "execution_count": null,
      "metadata": {
        "id": "rBONgwHtkIUb",
        "colab": {
          "base_uri": "https://localhost:8080/",
          "height": 558
        },
        "outputId": "15b657d0-7456-450b-867c-ee5311c3e536"
      },
      "outputs": [
        {
          "output_type": "display_data",
          "data": {
            "text/plain": [
              "<Figure size 2160x1080 with 1 Axes>"
            ],
            "image/png": "[encoded data removed]"
          },
          "metadata": {}
        }
      ],
      "source": [
        "#@title Comparacion de ventas por plataforma\n",
        "comp_platform = t[['Platform', 'NA_Sales', 'EU_Sales', 'JP_Sales', 'Other_Sales']]\n",
        "comp_platform.head()\n",
        "comp_platform = comp_platform.groupby(by=['Platform']).sum().reset_index()\n",
        "comp_table = pd.melt(comp_platform, id_vars=['Platform'], value_vars=['NA_Sales', 'EU_Sales', 'JP_Sales', 'Other_Sales'], var_name='Sale_Area', value_name='Sale_Price')\n",
        "comp_table.head()\n",
        "plt.figure(figsize=(30, 15))\n",
        "sns.barplot(x='Platform', y='Sale_Price', hue='Sale_Area', data=comp_table)\n",
        "plt.xticks(fontsize=14)\n",
        "plt.yticks(fontsize=14)\n",
        "plt.show()"
      ]
    },
    {
      "cell_type": "code",
      "execution_count": null,
      "metadata": {
        "id": "v-aBXVonkOPn",
        "colab": {
          "base_uri": "https://localhost:8080/",
          "height": 856
        },
        "outputId": "9efc85f4-59bc-44a4-d806-060082294b3a"
      },
      "outputs": [
        {
          "output_type": "execute_result",
          "data": {
            "text/plain": [
              "(array([ 0,  1,  2,  3,  4,  5,  6,  7,  8,  9, 10, 11, 12, 13, 14, 15, 16,\n",
              "        17, 18, 19]), <a list of 20 Text major ticklabel objects>)"
            ]
          },
          "metadata": {},
          "execution_count": 9
        },
        {
          "output_type": "display_data",
          "data": {
            "text/plain": [
              "<Figure size 1080x720 with 1 Axes>"
            ],
            "image/png": "[encoded data removed]"
          },
          "metadata": {}
        }
      ],
      "source": [
        "#@title Top de ventas globales por publicador\n",
        "sale_pbl = t[['Publisher', 'Global_Sales']]\n",
        "sale_pbl = sale_pbl.groupby('Publisher')['Global_Sales'].sum().sort_values(ascending=False).head(20)\n",
        "sale_pbl = pd.DataFrame(sale_pbl).reset_index()\n",
        "plt.figure(figsize=(15, 10))\n",
        "sns.barplot(x='Publisher', y='Global_Sales', data=sale_pbl)\n",
        "plt.xticks(rotation=90) "
      ]
    },
    {
      "cell_type": "code",
      "source": [
        "d = t\n",
        "d.head(10)"
      ],
      "metadata": {
        "colab": {
          "base_uri": "https://localhost:8080/",
          "height": 363
        },
        "id": "lnayM-oqx-gY",
        "outputId": "7d8d301d-fc25-4716-a02b-7f92522f3631"
      },
      "execution_count": null,
      "outputs": [
        {
          "output_type": "execute_result",
          "data": {
            "text/plain": [
              "   Rank                       Name Platform    Year         Genre Publisher  \\\n",
              "0     1                 Wii Sports      Wii  2006.0        Sports  Nintendo   \n",
              "1     2          Super Mario Bros.      NES  1985.0      Platform  Nintendo   \n",
              "2     3             Mario Kart Wii      Wii  2008.0        Racing  Nintendo   \n",
              "3     4          Wii Sports Resort      Wii  2009.0        Sports  Nintendo   \n",
              "4     5   Pokemon Red/Pokemon Blue       GB  1996.0  Role-Playing  Nintendo   \n",
              "5     6                     Tetris       GB  1989.0        Puzzle  Nintendo   \n",
              "6     7      New Super Mario Bros.       DS  2006.0      Platform  Nintendo   \n",
              "7     8                   Wii Play      Wii  2006.0          Misc  Nintendo   \n",
              "8     9  New Super Mario Bros. Wii      Wii  2009.0      Platform  Nintendo   \n",
              "9    10                  Duck Hunt      NES  1984.0       Shooter  Nintendo   \n",
              "\n",
              "   NA_Sales  EU_Sales  JP_Sales  Other_Sales  Global_Sales  \n",
              "0     41.49     29.02      3.77         8.46         82.74  \n",
              "1     29.08      3.58      6.81         0.77         40.24  \n",
              "2     15.85     12.88      3.79         3.31         35.82  \n",
              "3     15.75     11.01      3.28         2.96         33.00  \n",
              "4     11.27      8.89     10.22         1.00         31.37  \n",
              "5     23.20      2.26      4.22         0.58         30.26  \n",
              "6     11.38      9.23      6.50         2.90         30.01  \n",
              "7     14.03      9.20      2.93         2.85         29.02  \n",
              "8     14.59      7.06      4.70         2.26         28.62  \n",
              "9     26.93      0.63      0.28         0.47         28.31  "
            ],
            "text/html": [
              "\n",
              "  <div id=\"df-bb599dce-2068-450c-bb6f-385af90b2553\">\n",
              "    <div class=\"colab-df-container\">\n",
              "      <div>\n",
              "<style scoped>\n",
              "    .dataframe tbody tr th:only-of-type {\n",
              "        vertical-align: middle;\n",
              "    }\n",
              "\n",
              "    .dataframe tbody tr th {\n",
              "        vertical-align: top;\n",
              "    }\n",
              "\n",
              "    .dataframe thead th {\n",
              "        text-align: right;\n",
              "    }\n",
              "</style>\n",
              "<table border=\"1\" class=\"dataframe\">\n",
              "  <thead>\n",
              "    <tr style=\"text-align: right;\">\n",
              "      <th></th>\n",
              "      <th>Rank</th>\n",
              "      <th>Name</th>\n",
              "      <th>Platform</th>\n",
              "      <th>Year</th>\n",
              "      <th>Genre</th>\n",
              "      <th>Publisher</th>\n",
              "      <th>NA_Sales</th>\n",
              "      <th>EU_Sales</th>\n",
              "      <th>JP_Sales</th>\n",
              "      <th>Other_Sales</th>\n",
              "      <th>Global_Sales</th>\n",
              "    </tr>\n",
              "  </thead>\n",
              "  <tbody>\n",
              "    <tr>\n",
              "      <th>0</th>\n",
              "      <td>1</td>\n",
              "      <td>Wii Sports</td>\n",
              "      <td>Wii</td>\n",
              "      <td>2006.0</td>\n",
              "      <td>Sports</td>\n",
              "      <td>Nintendo</td>\n",
              "      <td>41.49</td>\n",
              "      <td>29.02</td>\n",
              "      <td>3.77</td>\n",
              "      <td>8.46</td>\n",
              "      <td>82.74</td>\n",
              "    </tr>\n",
              "    <tr>\n",
              "      <th>1</th>\n",
              "      <td>2</td>\n",
              "      <td>Super Mario Bros.</td>\n",
              "      <td>NES</td>\n",
              "      <td>1985.0</td>\n",
              "      <td>Platform</td>\n",
              "      <td>Nintendo</td>\n",
              "      <td>29.08</td>\n",
              "      <td>3.58</td>\n",
              "      <td>6.81</td>\n",
              "      <td>0.77</td>\n",
              "      <td>40.24</td>\n",
              "    </tr>\n",
              "    <tr>\n",
              "      <th>2</th>\n",
              "      <td>3</td>\n",
              "      <td>Mario Kart Wii</td>\n",
              "      <td>Wii</td>\n",
              "      <td>2008.0</td>\n",
              "      <td>Racing</td>\n",
              "      <td>Nintendo</td>\n",
              "      <td>15.85</td>\n",
              "      <td>12.88</td>\n",
              "      <td>3.79</td>\n",
              "      <td>3.31</td>\n",
              "      <td>35.82</td>\n",
              "    </tr>\n",
              "    <tr>\n",
              "      <th>3</th>\n",
              "      <td>4</td>\n",
              "      <td>Wii Sports Resort</td>\n",
              "      <td>Wii</td>\n",
              "      <td>2009.0</td>\n",
              "      <td>Sports</td>\n",
              "      <td>Nintendo</td>\n",
              "      <td>15.75</td>\n",
              "      <td>11.01</td>\n",
              "      <td>3.28</td>\n",
              "      <td>2.96</td>\n",
              "      <td>33.00</td>\n",
              "    </tr>\n",
              "    <tr>\n",
              "      <th>4</th>\n",
              "      <td>5</td>\n",
              "      <td>Pokemon Red/Pokemon Blue</td>\n",
              "      <td>GB</td>\n",
              "      <td>1996.0</td>\n",
              "      <td>Role-Playing</td>\n",
              "      <td>Nintendo</td>\n",
              "      <td>11.27</td>\n",
              "      <td>8.89</td>\n",
              "      <td>10.22</td>\n",
              "      <td>1.00</td>\n",
              "      <td>31.37</td>\n",
              "    </tr>\n",
              "    <tr>\n",
              "      <th>5</th>\n",
              "      <td>6</td>\n",
              "      <td>Tetris</td>\n",
              "      <td>GB</td>\n",
              "      <td>1989.0</td>\n",
              "      <td>Puzzle</td>\n",
              "      <td>Nintendo</td>\n",
              "      <td>23.20</td>\n",
              "      <td>2.26</td>\n",
              "      <td>4.22</td>\n",
              "      <td>0.58</td>\n",
              "      <td>30.26</td>\n",
              "    </tr>\n",
              "    <tr>\n",
              "      <th>6</th>\n",
              "      <td>7</td>\n",
              "      <td>New Super Mario Bros.</td>\n",
              "      <td>DS</td>\n",
              "      <td>2006.0</td>\n",
              "      <td>Platform</td>\n",
              "      <td>Nintendo</td>\n",
              "      <td>11.38</td>\n",
              "      <td>9.23</td>\n",
              "      <td>6.50</td>\n",
              "      <td>2.90</td>\n",
              "      <td>30.01</td>\n",
              "    </tr>\n",
              "    <tr>\n",
              "      <th>7</th>\n",
              "      <td>8</td>\n",
              "      <td>Wii Play</td>\n",
              "      <td>Wii</td>\n",
              "      <td>2006.0</td>\n",
              "      <td>Misc</td>\n",
              "      <td>Nintendo</td>\n",
              "      <td>14.03</td>\n",
              "      <td>9.20</td>\n",
              "      <td>2.93</td>\n",
              "      <td>2.85</td>\n",
              "      <td>29.02</td>\n",
              "    </tr>\n",
              "    <tr>\n",
              "      <th>8</th>\n",
              "      <td>9</td>\n",
              "      <td>New Super Mario Bros. Wii</td>\n",
              "      <td>Wii</td>\n",
              "      <td>2009.0</td>\n",
              "      <td>Platform</td>\n",
              "      <td>Nintendo</td>\n",
              "      <td>14.59</td>\n",
              "      <td>7.06</td>\n",
              "      <td>4.70</td>\n",
              "      <td>2.26</td>\n",
              "      <td>28.62</td>\n",
              "    </tr>\n",
              "    <tr>\n",
              "      <th>9</th>\n",
              "      <td>10</td>\n",
              "      <td>Duck Hunt</td>\n",
              "      <td>NES</td>\n",
              "      <td>1984.0</td>\n",
              "      <td>Shooter</td>\n",
              "      <td>Nintendo</td>\n",
              "      <td>26.93</td>\n",
              "      <td>0.63</td>\n",
              "      <td>0.28</td>\n",
              "      <td>0.47</td>\n",
              "      <td>28.31</td>\n",
              "    </tr>\n",
              "  </tbody>\n",
              "</table>\n",
              "</div>\n",
              "      <button class=\"colab-df-convert\" onclick=\"convertToInteractive('df-bb599dce-2068-450c-bb6f-385af90b2553')\"\n",
              "              title=\"Convert this dataframe to an interactive table.\"\n",
              "              style=\"display:none;\">\n",
              "        \n",
              "  <svg xmlns=\"http://www.w3.org/2000/svg\" height=\"24px\"viewBox=\"0 0 24 24\"\n",
              "       width=\"24px\">\n",
              "    <path d=\"M0 0h24v24H0V0z\" fill=\"none\"/>\n",
              "    <path d=\"M18.56 5.44l.94 2.06.94-2.06 2.06-.94-2.06-.94-.94-2.06-.94 2.06-2.06.94zm-11 1L8.5 8.5l.94-2.06 2.06-.94-2.06-.94L8.5 2.5l-.94 2.06-2.06.94zm10 10l.94 2.06.94-2.06 2.06-.94-2.06-.94-.94-2.06-.94 2.06-2.06.94z\"/><path d=\"M17.41 7.96l-1.37-1.37c-.4-.4-.92-.59-1.43-.59-.52 0-1.04.2-1.43.59L10.3 9.45l-7.72 7.72c-.78.78-.78 2.05 0 2.83L4 21.41c.39.39.9.59 1.41.59.51 0 1.02-.2 1.41-.59l7.78-7.78 2.81-2.81c.8-.78.8-2.07 0-2.86zM5.41 20L4 18.59l7.72-7.72 1.47 1.35L5.41 20z\"/>\n",
              "  </svg>\n",
              "      </button>\n",
              "      \n",
              "  <style>\n",
              "    .colab-df-container {\n",
              "      display:flex;\n",
              "      flex-wrap:wrap;\n",
              "      gap: 12px;\n",
              "    }\n",
              "\n",
              "    .colab-df-convert {\n",
              "      background-color: #E8F0FE;\n",
              "      border: none;\n",
              "      border-radius: 50%;\n",
              "      cursor: pointer;\n",
              "      display: none;\n",
              "      fill: #1967D2;\n",
              "      height: 32px;\n",
              "      padding: 0 0 0 0;\n",
              "      width: 32px;\n",
              "    }\n",
              "\n",
              "    .colab-df-convert:hover {\n",
              "      background-color: #E2EBFA;\n",
              "      box-shadow: 0px 1px 2px rgba(60, 64, 67, 0.3), 0px 1px 3px 1px rgba(60, 64, 67, 0.15);\n",
              "      fill: #174EA6;\n",
              "    }\n",
              "\n",
              "    [theme=dark] .colab-df-convert {\n",
              "      background-color: #3B4455;\n",
              "      fill: #D2E3FC;\n",
              "    }\n",
              "\n",
              "    [theme=dark] .colab-df-convert:hover {\n",
              "      background-color: #434B5C;\n",
              "      box-shadow: 0px 1px 3px 1px rgba(0, 0, 0, 0.15);\n",
              "      filter: drop-shadow(0px 1px 2px rgba(0, 0, 0, 0.3));\n",
              "      fill: #FFFFFF;\n",
              "    }\n",
              "  </style>\n",
              "\n",
              "      <script>\n",
              "        const buttonEl =\n",
              "          document.querySelector('#df-bb599dce-2068-450c-bb6f-385af90b2553 button.colab-df-convert');\n",
              "        buttonEl.style.display =\n",
              "          google.colab.kernel.accessAllowed ? 'block' : 'none';\n",
              "\n",
              "        async function convertToInteractive(key) {\n",
              "          const element = document.querySelector('#df-bb599dce-2068-450c-bb6f-385af90b2553');\n",
              "          const dataTable =\n",
              "            await google.colab.kernel.invokeFunction('convertToInteractive',\n",
              "                                                     [key], {});\n",
              "          if (!dataTable) return;\n",
              "\n",
              "          const docLinkHtml = 'Like what you see? Visit the ' +\n",
              "            '<a target=\"_blank\" href=https://colab.research.google.com/notebooks/data_table.ipynb>data table notebook</a>'\n",
              "            + ' to learn more about interactive tables.';\n",
              "          element.innerHTML = '';\n",
              "          dataTable['output_type'] = 'display_data';\n",
              "          await google.colab.output.renderOutput(dataTable, element);\n",
              "          const docLink = document.createElement('div');\n",
              "          docLink.innerHTML = docLinkHtml;\n",
              "          element.appendChild(docLink);\n",
              "        }\n",
              "      </script>\n",
              "    </div>\n",
              "  </div>\n",
              "  "
            ]
          },
          "metadata": {},
          "execution_count": 10
        }
      ]
    },
    {
      "cell_type": "code",
      "execution_count": null,
      "metadata": {
        "id": "9n0YikJV6hJ-",
        "colab": {
          "base_uri": "https://localhost:8080/",
          "height": 801
        },
        "outputId": "3a3d459c-23e9-43a2-e9fc-ce521fecb8e3"
      },
      "outputs": [
        {
          "output_type": "stream",
          "name": "stderr",
          "text": [
            "<ipython-input-11-4bf324fa42d1>:6: SettingWithCopyWarning: \n",
            "A value is trying to be set on a copy of a slice from a DataFrame.\n",
            "Try using .loc[row_indexer,col_indexer] = value instead\n",
            "\n",
            "See the caveats in the documentation: https://pandas.pydata.org/pandas-docs/stable/user_guide/indexing.html#returning-a-view-versus-a-copy\n",
            "  d['Name'] = class_int_names\n",
            "<ipython-input-11-4bf324fa42d1>:11: SettingWithCopyWarning: \n",
            "A value is trying to be set on a copy of a slice from a DataFrame.\n",
            "Try using .loc[row_indexer,col_indexer] = value instead\n",
            "\n",
            "See the caveats in the documentation: https://pandas.pydata.org/pandas-docs/stable/user_guide/indexing.html#returning-a-view-versus-a-copy\n",
            "  d['Platform'] = class_int_platform\n",
            "<ipython-input-11-4bf324fa42d1>:16: SettingWithCopyWarning: \n",
            "A value is trying to be set on a copy of a slice from a DataFrame.\n",
            "Try using .loc[row_indexer,col_indexer] = value instead\n",
            "\n",
            "See the caveats in the documentation: https://pandas.pydata.org/pandas-docs/stable/user_guide/indexing.html#returning-a-view-versus-a-copy\n",
            "  d['Genre'] = class_int_genre\n",
            "<ipython-input-11-4bf324fa42d1>:21: SettingWithCopyWarning: \n",
            "A value is trying to be set on a copy of a slice from a DataFrame.\n",
            "Try using .loc[row_indexer,col_indexer] = value instead\n",
            "\n",
            "See the caveats in the documentation: https://pandas.pydata.org/pandas-docs/stable/user_guide/indexing.html#returning-a-view-versus-a-copy\n",
            "  d['Publisher'] = class_int_publisher\n"
          ]
        },
        {
          "output_type": "execute_result",
          "data": {
            "text/plain": [
              "   Rank  Name  Platform    Year  Genre  Publisher  NA_Sales  EU_Sales  \\\n",
              "0     1  1510        20  2006.0     10         57     41.49     29.02   \n",
              "1     2  1243         9  1985.0      4         57     29.08      3.58   \n",
              "2     3   694        20  2008.0      6         57     15.85     12.88   \n",
              "3     4  1511        20  2009.0     10         57     15.75     11.01   \n",
              "4     5   972         4  1996.0      7         57     11.27      8.89   \n",
              "5     6  1305         4  1989.0      5         57     23.20      2.26   \n",
              "6     7   899         3  2006.0      4         57     11.38      9.23   \n",
              "7     8  1509        20  2006.0      3         57     14.03      9.20   \n",
              "8     9   902        20  2009.0      4         57     14.59      7.06   \n",
              "9    10   317         9  1984.0      8         57     26.93      0.63   \n",
              "\n",
              "   JP_Sales  Other_Sales  Global_Sales  \n",
              "0      3.77         8.46         82.74  \n",
              "1      6.81         0.77         40.24  \n",
              "2      3.79         3.31         35.82  \n",
              "3      3.28         2.96         33.00  \n",
              "4     10.22         1.00         31.37  \n",
              "5      4.22         0.58         30.26  \n",
              "6      6.50         2.90         30.01  \n",
              "7      2.93         2.85         29.02  \n",
              "8      4.70         2.26         28.62  \n",
              "9      0.28         0.47         28.31  "
            ],
            "text/html": [
              "\n",
              "  <div id=\"df-a8e87c2d-df58-4a5e-b63e-554a9e822f83\">\n",
              "    <div class=\"colab-df-container\">\n",
              "      <div>\n",
              "<style scoped>\n",
              "    .dataframe tbody tr th:only-of-type {\n",
              "        vertical-align: middle;\n",
              "    }\n",
              "\n",
              "    .dataframe tbody tr th {\n",
              "        vertical-align: top;\n",
              "    }\n",
              "\n",
              "    .dataframe thead th {\n",
              "        text-align: right;\n",
              "    }\n",
              "</style>\n",
              "<table border=\"1\" class=\"dataframe\">\n",
              "  <thead>\n",
              "    <tr style=\"text-align: right;\">\n",
              "      <th></th>\n",
              "      <th>Rank</th>\n",
              "      <th>Name</th>\n",
              "      <th>Platform</th>\n",
              "      <th>Year</th>\n",
              "      <th>Genre</th>\n",
              "      <th>Publisher</th>\n",
              "      <th>NA_Sales</th>\n",
              "      <th>EU_Sales</th>\n",
              "      <th>JP_Sales</th>\n",
              "      <th>Other_Sales</th>\n",
              "      <th>Global_Sales</th>\n",
              "    </tr>\n",
              "  </thead>\n",
              "  <tbody>\n",
              "    <tr>\n",
              "      <th>0</th>\n",
              "      <td>1</td>\n",
              "      <td>1510</td>\n",
              "      <td>20</td>\n",
              "      <td>2006.0</td>\n",
              "      <td>10</td>\n",
              "      <td>57</td>\n",
              "      <td>41.49</td>\n",
              "      <td>29.02</td>\n",
              "      <td>3.77</td>\n",
              "      <td>8.46</td>\n",
              "      <td>82.74</td>\n",
              "    </tr>\n",
              "    <tr>\n",
              "      <th>1</th>\n",
              "      <td>2</td>\n",
              "      <td>1243</td>\n",
              "      <td>9</td>\n",
              "      <td>1985.0</td>\n",
              "      <td>4</td>\n",
              "      <td>57</td>\n",
              "      <td>29.08</td>\n",
              "      <td>3.58</td>\n",
              "      <td>6.81</td>\n",
              "      <td>0.77</td>\n",
              "      <td>40.24</td>\n",
              "    </tr>\n",
              "    <tr>\n",
              "      <th>2</th>\n",
              "      <td>3</td>\n",
              "      <td>694</td>\n",
              "      <td>20</td>\n",
              "      <td>2008.0</td>\n",
              "      <td>6</td>\n",
              "      <td>57</td>\n",
              "      <td>15.85</td>\n",
              "      <td>12.88</td>\n",
              "      <td>3.79</td>\n",
              "      <td>3.31</td>\n",
              "      <td>35.82</td>\n",
              "    </tr>\n",
              "    <tr>\n",
              "      <th>3</th>\n",
              "      <td>4</td>\n",
              "      <td>1511</td>\n",
              "      <td>20</td>\n",
              "      <td>2009.0</td>\n",
              "      <td>10</td>\n",
              "      <td>57</td>\n",
              "      <td>15.75</td>\n",
              "      <td>11.01</td>\n",
              "      <td>3.28</td>\n",
              "      <td>2.96</td>\n",
              "      <td>33.00</td>\n",
              "    </tr>\n",
              "    <tr>\n",
              "      <th>4</th>\n",
              "      <td>5</td>\n",
              "      <td>972</td>\n",
              "      <td>4</td>\n",
              "      <td>1996.0</td>\n",
              "      <td>7</td>\n",
              "      <td>57</td>\n",
              "      <td>11.27</td>\n",
              "      <td>8.89</td>\n",
              "      <td>10.22</td>\n",
              "      <td>1.00</td>\n",
              "      <td>31.37</td>\n",
              "    </tr>\n",
              "    <tr>\n",
              "      <th>5</th>\n",
              "      <td>6</td>\n",
              "      <td>1305</td>\n",
              "      <td>4</td>\n",
              "      <td>1989.0</td>\n",
              "      <td>5</td>\n",
              "      <td>57</td>\n",
              "      <td>23.20</td>\n",
              "      <td>2.26</td>\n",
              "      <td>4.22</td>\n",
              "      <td>0.58</td>\n",
              "      <td>30.26</td>\n",
              "    </tr>\n",
              "    <tr>\n",
              "      <th>6</th>\n",
              "      <td>7</td>\n",
              "      <td>899</td>\n",
              "      <td>3</td>\n",
              "      <td>2006.0</td>\n",
              "      <td>4</td>\n",
              "      <td>57</td>\n",
              "      <td>11.38</td>\n",
              "      <td>9.23</td>\n",
              "      <td>6.50</td>\n",
              "      <td>2.90</td>\n",
              "      <td>30.01</td>\n",
              "    </tr>\n",
              "    <tr>\n",
              "      <th>7</th>\n",
              "      <td>8</td>\n",
              "      <td>1509</td>\n",
              "      <td>20</td>\n",
              "      <td>2006.0</td>\n",
              "      <td>3</td>\n",
              "      <td>57</td>\n",
              "      <td>14.03</td>\n",
              "      <td>9.20</td>\n",
              "      <td>2.93</td>\n",
              "      <td>2.85</td>\n",
              "      <td>29.02</td>\n",
              "    </tr>\n",
              "    <tr>\n",
              "      <th>8</th>\n",
              "      <td>9</td>\n",
              "      <td>902</td>\n",
              "      <td>20</td>\n",
              "      <td>2009.0</td>\n",
              "      <td>4</td>\n",
              "      <td>57</td>\n",
              "      <td>14.59</td>\n",
              "      <td>7.06</td>\n",
              "      <td>4.70</td>\n",
              "      <td>2.26</td>\n",
              "      <td>28.62</td>\n",
              "    </tr>\n",
              "    <tr>\n",
              "      <th>9</th>\n",
              "      <td>10</td>\n",
              "      <td>317</td>\n",
              "      <td>9</td>\n",
              "      <td>1984.0</td>\n",
              "      <td>8</td>\n",
              "      <td>57</td>\n",
              "      <td>26.93</td>\n",
              "      <td>0.63</td>\n",
              "      <td>0.28</td>\n",
              "      <td>0.47</td>\n",
              "      <td>28.31</td>\n",
              "    </tr>\n",
              "  </tbody>\n",
              "</table>\n",
              "</div>\n",
              "      <button class=\"colab-df-convert\" onclick=\"convertToInteractive('df-a8e87c2d-df58-4a5e-b63e-554a9e822f83')\"\n",
              "              title=\"Convert this dataframe to an interactive table.\"\n",
              "              style=\"display:none;\">\n",
              "        \n",
              "  <svg xmlns=\"http://www.w3.org/2000/svg\" height=\"24px\"viewBox=\"0 0 24 24\"\n",
              "       width=\"24px\">\n",
              "    <path d=\"M0 0h24v24H0V0z\" fill=\"none\"/>\n",
              "    <path d=\"M18.56 5.44l.94 2.06.94-2.06 2.06-.94-2.06-.94-.94-2.06-.94 2.06-2.06.94zm-11 1L8.5 8.5l.94-2.06 2.06-.94-2.06-.94L8.5 2.5l-.94 2.06-2.06.94zm10 10l.94 2.06.94-2.06 2.06-.94-2.06-.94-.94-2.06-.94 2.06-2.06.94z\"/><path d=\"M17.41 7.96l-1.37-1.37c-.4-.4-.92-.59-1.43-.59-.52 0-1.04.2-1.43.59L10.3 9.45l-7.72 7.72c-.78.78-.78 2.05 0 2.83L4 21.41c.39.39.9.59 1.41.59.51 0 1.02-.2 1.41-.59l7.78-7.78 2.81-2.81c.8-.78.8-2.07 0-2.86zM5.41 20L4 18.59l7.72-7.72 1.47 1.35L5.41 20z\"/>\n",
              "  </svg>\n",
              "      </button>\n",
              "      \n",
              "  <style>\n",
              "    .colab-df-container {\n",
              "      display:flex;\n",
              "      flex-wrap:wrap;\n",
              "      gap: 12px;\n",
              "    }\n",
              "\n",
              "    .colab-df-convert {\n",
              "      background-color: #E8F0FE;\n",
              "      border: none;\n",
              "      border-radius: 50%;\n",
              "      cursor: pointer;\n",
              "      display: none;\n",
              "      fill: #1967D2;\n",
              "      height: 32px;\n",
              "      padding: 0 0 0 0;\n",
              "      width: 32px;\n",
              "    }\n",
              "\n",
              "    .colab-df-convert:hover {\n",
              "      background-color: #E2EBFA;\n",
              "      box-shadow: 0px 1px 2px rgba(60, 64, 67, 0.3), 0px 1px 3px 1px rgba(60, 64, 67, 0.15);\n",
              "      fill: #174EA6;\n",
              "    }\n",
              "\n",
              "    [theme=dark] .colab-df-convert {\n",
              "      background-color: #3B4455;\n",
              "      fill: #D2E3FC;\n",
              "    }\n",
              "\n",
              "    [theme=dark] .colab-df-convert:hover {\n",
              "      background-color: #434B5C;\n",
              "      box-shadow: 0px 1px 3px 1px rgba(0, 0, 0, 0.15);\n",
              "      filter: drop-shadow(0px 1px 2px rgba(0, 0, 0, 0.3));\n",
              "      fill: #FFFFFF;\n",
              "    }\n",
              "  </style>\n",
              "\n",
              "      <script>\n",
              "        const buttonEl =\n",
              "          document.querySelector('#df-a8e87c2d-df58-4a5e-b63e-554a9e822f83 button.colab-df-convert');\n",
              "        buttonEl.style.display =\n",
              "          google.colab.kernel.accessAllowed ? 'block' : 'none';\n",
              "\n",
              "        async function convertToInteractive(key) {\n",
              "          const element = document.querySelector('#df-a8e87c2d-df58-4a5e-b63e-554a9e822f83');\n",
              "          const dataTable =\n",
              "            await google.colab.kernel.invokeFunction('convertToInteractive',\n",
              "                                                     [key], {});\n",
              "          if (!dataTable) return;\n",
              "\n",
              "          const docLinkHtml = 'Like what you see? Visit the ' +\n",
              "            '<a target=\"_blank\" href=https://colab.research.google.com/notebooks/data_table.ipynb>data table notebook</a>'\n",
              "            + ' to learn more about interactive tables.';\n",
              "          element.innerHTML = '';\n",
              "          dataTable['output_type'] = 'display_data';\n",
              "          await google.colab.output.renderOutput(dataTable, element);\n",
              "          const docLink = document.createElement('div');\n",
              "          docLink.innerHTML = docLinkHtml;\n",
              "          element.appendChild(docLink);\n",
              "        }\n",
              "      </script>\n",
              "    </div>\n",
              "  </div>\n",
              "  "
            ]
          },
          "metadata": {},
          "execution_count": 11
        }
      ],
      "source": [
        "d = d.head(2000)\n",
        "\n",
        "Name = d['Name'].values\n",
        "class_names = np.array([a for i, a in enumerate(np.unique(Name)) ])\n",
        "class_int_names = np.array([j for i in Name for j, k in enumerate(class_names) if i==k])\n",
        "d['Name'] = class_int_names\n",
        "\n",
        "Platform = d['Platform'].values\n",
        "class_platform = np.array([a for i, a in enumerate(np.unique(Platform)) ])\n",
        "class_int_platform = np.array([j for i in Platform for j, k in enumerate(class_platform) if i==k])\n",
        "d['Platform'] = class_int_platform\n",
        "\n",
        "Genre = d['Genre'].values\n",
        "class_genre = np.array([a for i, a in enumerate(np.unique(Genre)) ])\n",
        "class_int_genre = np.array([j for i in Genre for j, k in enumerate(class_genre) if i==k])\n",
        "d['Genre'] = class_int_genre\n",
        "\n",
        "Publisher = d['Publisher'].values\n",
        "class_publisher = np.array([a for i, a in enumerate(np.unique(Publisher)) ])\n",
        "class_int_publisher = np.array([j for i in Publisher for j, k in enumerate(class_publisher) if i==k])\n",
        "d['Publisher'] = class_int_publisher\n",
        "\n",
        "d.head(10)"
      ]
    },
    {
      "cell_type": "code",
      "execution_count": null,
      "metadata": {
        "id": "yhpLtbNSXD7c",
        "colab": {
          "base_uri": "https://localhost:8080/",
          "height": 36
        },
        "outputId": "291dc902-cde3-4d4f-f7a0-c531cf549312"
      },
      "outputs": [
        {
          "output_type": "execute_result",
          "data": {
            "text/plain": [
              "'Nintendo'"
            ],
            "application/vnd.google.colaboratory.intrinsic+json": {
              "type": "string"
            }
          },
          "metadata": {},
          "execution_count": 12
        }
      ],
      "source": [
        "class_publisher[57]"
      ]
    },
    {
      "cell_type": "code",
      "execution_count": null,
      "metadata": {
        "id": "7bCuPNvzLDY7"
      },
      "outputs": [],
      "source": [
        "d = d.drop(['NA_Sales', 'EU_Sales', 'JP_Sales','Other_Sales'], axis=1)"
      ]
    },
    {
      "cell_type": "code",
      "execution_count": null,
      "metadata": {
        "id": "hyV7kKjMGrg9",
        "colab": {
          "base_uri": "https://localhost:8080/",
          "height": 363
        },
        "outputId": "0999b903-313c-4f85-f7ca-289e0c6d11be"
      },
      "outputs": [
        {
          "output_type": "execute_result",
          "data": {
            "text/plain": [
              "   Rank  Name  Platform  Year  Genre  Publisher  Global_Sales\n",
              "0     1  1510        20  2006     10         57         82740\n",
              "1     2  1243         9  1985      4         57         40240\n",
              "2     3   694        20  2008      6         57         35820\n",
              "3     4  1511        20  2009     10         57         33000\n",
              "4     5   972         4  1996      7         57         31370\n",
              "5     6  1305         4  1989      5         57         30260\n",
              "6     7   899         3  2006      4         57         30010\n",
              "7     8  1509        20  2006      3         57         29020\n",
              "8     9   902        20  2009      4         57         28620\n",
              "9    10   317         9  1984      8         57         28310"
            ],
            "text/html": [
              "\n",
              "  <div id=\"df-3f2804b4-08ef-4a35-a72f-766b98d3aec2\">\n",
              "    <div class=\"colab-df-container\">\n",
              "      <div>\n",
              "<style scoped>\n",
              "    .dataframe tbody tr th:only-of-type {\n",
              "        vertical-align: middle;\n",
              "    }\n",
              "\n",
              "    .dataframe tbody tr th {\n",
              "        vertical-align: top;\n",
              "    }\n",
              "\n",
              "    .dataframe thead th {\n",
              "        text-align: right;\n",
              "    }\n",
              "</style>\n",
              "<table border=\"1\" class=\"dataframe\">\n",
              "  <thead>\n",
              "    <tr style=\"text-align: right;\">\n",
              "      <th></th>\n",
              "      <th>Rank</th>\n",
              "      <th>Name</th>\n",
              "      <th>Platform</th>\n",
              "      <th>Year</th>\n",
              "      <th>Genre</th>\n",
              "      <th>Publisher</th>\n",
              "      <th>Global_Sales</th>\n",
              "    </tr>\n",
              "  </thead>\n",
              "  <tbody>\n",
              "    <tr>\n",
              "      <th>0</th>\n",
              "      <td>1</td>\n",
              "      <td>1510</td>\n",
              "      <td>20</td>\n",
              "      <td>2006</td>\n",
              "      <td>10</td>\n",
              "      <td>57</td>\n",
              "      <td>82740</td>\n",
              "    </tr>\n",
              "    <tr>\n",
              "      <th>1</th>\n",
              "      <td>2</td>\n",
              "      <td>1243</td>\n",
              "      <td>9</td>\n",
              "      <td>1985</td>\n",
              "      <td>4</td>\n",
              "      <td>57</td>\n",
              "      <td>40240</td>\n",
              "    </tr>\n",
              "    <tr>\n",
              "      <th>2</th>\n",
              "      <td>3</td>\n",
              "      <td>694</td>\n",
              "      <td>20</td>\n",
              "      <td>2008</td>\n",
              "      <td>6</td>\n",
              "      <td>57</td>\n",
              "      <td>35820</td>\n",
              "    </tr>\n",
              "    <tr>\n",
              "      <th>3</th>\n",
              "      <td>4</td>\n",
              "      <td>1511</td>\n",
              "      <td>20</td>\n",
              "      <td>2009</td>\n",
              "      <td>10</td>\n",
              "      <td>57</td>\n",
              "      <td>33000</td>\n",
              "    </tr>\n",
              "    <tr>\n",
              "      <th>4</th>\n",
              "      <td>5</td>\n",
              "      <td>972</td>\n",
              "      <td>4</td>\n",
              "      <td>1996</td>\n",
              "      <td>7</td>\n",
              "      <td>57</td>\n",
              "      <td>31370</td>\n",
              "    </tr>\n",
              "    <tr>\n",
              "      <th>5</th>\n",
              "      <td>6</td>\n",
              "      <td>1305</td>\n",
              "      <td>4</td>\n",
              "      <td>1989</td>\n",
              "      <td>5</td>\n",
              "      <td>57</td>\n",
              "      <td>30260</td>\n",
              "    </tr>\n",
              "    <tr>\n",
              "      <th>6</th>\n",
              "      <td>7</td>\n",
              "      <td>899</td>\n",
              "      <td>3</td>\n",
              "      <td>2006</td>\n",
              "      <td>4</td>\n",
              "      <td>57</td>\n",
              "      <td>30010</td>\n",
              "    </tr>\n",
              "    <tr>\n",
              "      <th>7</th>\n",
              "      <td>8</td>\n",
              "      <td>1509</td>\n",
              "      <td>20</td>\n",
              "      <td>2006</td>\n",
              "      <td>3</td>\n",
              "      <td>57</td>\n",
              "      <td>29020</td>\n",
              "    </tr>\n",
              "    <tr>\n",
              "      <th>8</th>\n",
              "      <td>9</td>\n",
              "      <td>902</td>\n",
              "      <td>20</td>\n",
              "      <td>2009</td>\n",
              "      <td>4</td>\n",
              "      <td>57</td>\n",
              "      <td>28620</td>\n",
              "    </tr>\n",
              "    <tr>\n",
              "      <th>9</th>\n",
              "      <td>10</td>\n",
              "      <td>317</td>\n",
              "      <td>9</td>\n",
              "      <td>1984</td>\n",
              "      <td>8</td>\n",
              "      <td>57</td>\n",
              "      <td>28310</td>\n",
              "    </tr>\n",
              "  </tbody>\n",
              "</table>\n",
              "</div>\n",
              "      <button class=\"colab-df-convert\" onclick=\"convertToInteractive('df-3f2804b4-08ef-4a35-a72f-766b98d3aec2')\"\n",
              "              title=\"Convert this dataframe to an interactive table.\"\n",
              "              style=\"display:none;\">\n",
              "        \n",
              "  <svg xmlns=\"http://www.w3.org/2000/svg\" height=\"24px\"viewBox=\"0 0 24 24\"\n",
              "       width=\"24px\">\n",
              "    <path d=\"M0 0h24v24H0V0z\" fill=\"none\"/>\n",
              "    <path d=\"M18.56 5.44l.94 2.06.94-2.06 2.06-.94-2.06-.94-.94-2.06-.94 2.06-2.06.94zm-11 1L8.5 8.5l.94-2.06 2.06-.94-2.06-.94L8.5 2.5l-.94 2.06-2.06.94zm10 10l.94 2.06.94-2.06 2.06-.94-2.06-.94-.94-2.06-.94 2.06-2.06.94z\"/><path d=\"M17.41 7.96l-1.37-1.37c-.4-.4-.92-.59-1.43-.59-.52 0-1.04.2-1.43.59L10.3 9.45l-7.72 7.72c-.78.78-.78 2.05 0 2.83L4 21.41c.39.39.9.59 1.41.59.51 0 1.02-.2 1.41-.59l7.78-7.78 2.81-2.81c.8-.78.8-2.07 0-2.86zM5.41 20L4 18.59l7.72-7.72 1.47 1.35L5.41 20z\"/>\n",
              "  </svg>\n",
              "      </button>\n",
              "      \n",
              "  <style>\n",
              "    .colab-df-container {\n",
              "      display:flex;\n",
              "      flex-wrap:wrap;\n",
              "      gap: 12px;\n",
              "    }\n",
              "\n",
              "    .colab-df-convert {\n",
              "      background-color: #E8F0FE;\n",
              "      border: none;\n",
              "      border-radius: 50%;\n",
              "      cursor: pointer;\n",
              "      display: none;\n",
              "      fill: #1967D2;\n",
              "      height: 32px;\n",
              "      padding: 0 0 0 0;\n",
              "      width: 32px;\n",
              "    }\n",
              "\n",
              "    .colab-df-convert:hover {\n",
              "      background-color: #E2EBFA;\n",
              "      box-shadow: 0px 1px 2px rgba(60, 64, 67, 0.3), 0px 1px 3px 1px rgba(60, 64, 67, 0.15);\n",
              "      fill: #174EA6;\n",
              "    }\n",
              "\n",
              "    [theme=dark] .colab-df-convert {\n",
              "      background-color: #3B4455;\n",
              "      fill: #D2E3FC;\n",
              "    }\n",
              "\n",
              "    [theme=dark] .colab-df-convert:hover {\n",
              "      background-color: #434B5C;\n",
              "      box-shadow: 0px 1px 3px 1px rgba(0, 0, 0, 0.15);\n",
              "      filter: drop-shadow(0px 1px 2px rgba(0, 0, 0, 0.3));\n",
              "      fill: #FFFFFF;\n",
              "    }\n",
              "  </style>\n",
              "\n",
              "      <script>\n",
              "        const buttonEl =\n",
              "          document.querySelector('#df-3f2804b4-08ef-4a35-a72f-766b98d3aec2 button.colab-df-convert');\n",
              "        buttonEl.style.display =\n",
              "          google.colab.kernel.accessAllowed ? 'block' : 'none';\n",
              "\n",
              "        async function convertToInteractive(key) {\n",
              "          const element = document.querySelector('#df-3f2804b4-08ef-4a35-a72f-766b98d3aec2');\n",
              "          const dataTable =\n",
              "            await google.colab.kernel.invokeFunction('convertToInteractive',\n",
              "                                                     [key], {});\n",
              "          if (!dataTable) return;\n",
              "\n",
              "          const docLinkHtml = 'Like what you see? Visit the ' +\n",
              "            '<a target=\"_blank\" href=https://colab.research.google.com/notebooks/data_table.ipynb>data table notebook</a>'\n",
              "            + ' to learn more about interactive tables.';\n",
              "          element.innerHTML = '';\n",
              "          dataTable['output_type'] = 'display_data';\n",
              "          await google.colab.output.renderOutput(dataTable, element);\n",
              "          const docLink = document.createElement('div');\n",
              "          docLink.innerHTML = docLinkHtml;\n",
              "          element.appendChild(docLink);\n",
              "        }\n",
              "      </script>\n",
              "    </div>\n",
              "  </div>\n",
              "  "
            ]
          },
          "metadata": {},
          "execution_count": 14
        }
      ],
      "source": [
        "d['Global_Sales'] = d['Global_Sales'].apply(lambda x: x * 1000)\n",
        "d['Global_Sales'] = d['Global_Sales'].astype(int)\n",
        "d['Year'] = d['Year'].astype(int)\n",
        "\n",
        "d.head(10)"
      ]
    },
    {
      "cell_type": "code",
      "execution_count": null,
      "metadata": {
        "id": "-yIkUjCO6cFQ",
        "colab": {
          "base_uri": "https://localhost:8080/"
        },
        "outputId": "845e05f4-4497-45b5-d9a7-8f141c2a4f19"
      },
      "outputs": [
        {
          "output_type": "stream",
          "name": "stdout",
          "text": [
            "(2000, 6) (2000,)\n"
          ]
        }
      ],
      "source": [
        "X = d.values[:,:-1]\n",
        "y = d.values[:,-1]\n",
        "X_train, X_test, y_train, y_test = train_test_split(X, y, test_size=0.25, random_state=21)\n",
        "print(X.shape, y.shape)"
      ]
    },
    {
      "cell_type": "code",
      "execution_count": null,
      "metadata": {
        "id": "OFnynks_95M9",
        "colab": {
          "base_uri": "https://localhost:8080/"
        },
        "outputId": "d96ef059-d94f-4c17-a343-ec1f9faa4a03"
      },
      "outputs": [
        {
          "output_type": "stream",
          "name": "stdout",
          "text": [
            "0.568\n"
          ]
        }
      ],
      "source": [
        "est = GaussianNB()\n",
        "est.fit(X_train,y_train)\n",
        "print(\"%.3f\"%accuracy_score(est.predict(X_test), y_test))"
      ]
    },
    {
      "cell_type": "code",
      "execution_count": null,
      "metadata": {
        "id": "mwGHGEQC2lUx",
        "colab": {
          "base_uri": "https://localhost:8080/",
          "height": 325
        },
        "outputId": "c298ca83-9773-4374-f217-54bb20248fe5"
      },
      "outputs": [
        {
          "output_type": "stream",
          "name": "stdout",
          "text": [
            "[0.014, 0.038, 0.08, 0.102, 0.118, 0.15, 0.19, 0.202, 0.228, 0.262, 0.28, 0.3, 0.32, 0.342, 0.368, 0.384, 0.402, 0.426, 0.454, 0.476, 0.496, 0.52, 0.548, 0.562, 0.58, 0.598, 0.61, 0.612, 0.614, 0.63, 0.63, 0.646, 0.664, 0.662, 0.668, 0.678, 0.672, 0.682, 0.674, 0.682, 0.686, 0.682, 0.696, 0.698, 0.684, 0.68, 0.692, 0.694, 0.692, 0.684, 0.69, 0.684, 0.684, 0.682, 0.682, 0.686, 0.692, 0.688, 0.676, 0.674, 0.686, 0.69, 0.684, 0.674, 0.692, 0.672, 0.69, 0.69, 0.682, 0.69, 0.69, 0.686, 0.676, 0.69, 0.684, 0.68, 0.69, 0.688, 0.694, 0.698, 0.672, 0.686, 0.676, 0.686, 0.69, 0.68, 0.686, 0.68, 0.68, 0.692, 0.692, 0.686, 0.678, 0.684, 0.702, 0.694, 0.692, 0.694, 0.68]\n"
          ]
        },
        {
          "output_type": "execute_result",
          "data": {
            "text/plain": [
              "<matplotlib.axes._subplots.AxesSubplot at 0x7f3e73353a60>"
            ]
          },
          "metadata": {},
          "execution_count": 17
        },
        {
          "output_type": "display_data",
          "data": {
            "text/plain": [
              "<Figure size 432x288 with 1 Axes>"
            ],
            "image/png": "[encoded data removed]"
          },
          "metadata": {}
        }
      ],
      "source": [
        "accuracy_DTC=[]\n",
        "for i in range(1,100):\n",
        "  est = DecisionTreeClassifier(max_depth=i)\n",
        "  est.fit(X_train,y_train)\n",
        "  accuracy_DTC.append(accuracy_score(est.predict(X_test), y_test))\n",
        "print(accuracy_DTC)\n",
        "\n",
        "sns.scatterplot(x=range(1,100), y=accuracy_DTC)"
      ]
    },
    {
      "cell_type": "code",
      "execution_count": null,
      "metadata": {
        "colab": {
          "base_uri": "https://localhost:8080/",
          "height": 343
        },
        "id": "RglBnssXeHup",
        "outputId": "e71e6c76-4b5e-459d-afe8-3a4c94966b01"
      },
      "outputs": [
        {
          "output_type": "stream",
          "name": "stdout",
          "text": [
            "Accuracy: \n",
            "[0.164, 0.172, 0.19, 0.202, 0.218, 0.214, 0.232, 0.228, 0.232, 0.222, 0.232, 0.24, 0.242, 0.23, 0.23, 0.226, 0.224, 0.224, 0.25, 0.218, 0.232, 0.232, 0.23, 0.222, 0.224, 0.218, 0.244, 0.224, 0.234, 0.206, 0.216, 0.242, 0.232, 0.246, 0.232, 0.228, 0.216, 0.224, 0.23, 0.232, 0.242, 0.21, 0.238, 0.234, 0.216, 0.216, 0.212, 0.228, 0.226, 0.236, 0.23, 0.228, 0.218, 0.226, 0.234, 0.238, 0.226, 0.23, 0.252, 0.22, 0.228, 0.248, 0.228, 0.242, 0.222, 0.244, 0.228, 0.232, 0.228, 0.21, 0.236, 0.226, 0.228, 0.236, 0.206, 0.238, 0.236, 0.212, 0.232, 0.238, 0.22, 0.226, 0.228, 0.22, 0.212, 0.228, 0.248, 0.236, 0.216, 0.216, 0.222, 0.23, 0.234, 0.208, 0.22]\n"
          ]
        },
        {
          "output_type": "execute_result",
          "data": {
            "text/plain": [
              "<matplotlib.axes._subplots.AxesSubplot at 0x7f3e73306f70>"
            ]
          },
          "metadata": {},
          "execution_count": 18
        },
        {
          "output_type": "display_data",
          "data": {
            "text/plain": [
              "<Figure size 432x288 with 1 Axes>"
            ],
            "image/png": "[encoded data removed]"
          },
          "metadata": {}
        }
      ],
      "source": [
        "accuracy_RFC=[]\n",
        "for i in range(5,100):\n",
        "  est = RandomForestClassifier(max_depth=i)\n",
        "  est.fit(X_train,y_train)\n",
        "  accuracy_RFC.append(accuracy_score(est.predict(X_test), y_test))\n",
        "print(\"Accuracy: \")\n",
        "print(accuracy_RFC)\n",
        "\n",
        "sns.scatterplot(x=range(5,100), y=accuracy_RFC)"
      ]
    },
    {
      "cell_type": "code",
      "execution_count": null,
      "metadata": {
        "colab": {
          "base_uri": "https://localhost:8080/",
          "height": 343
        },
        "id": "0aLBx-9sNVzx",
        "outputId": "43e0ab27-6240-451b-d172-bd80dcdb57d6"
      },
      "outputs": [
        {
          "output_type": "stream",
          "name": "stdout",
          "text": [
            "Accuracy: \n",
            "[0.148, 0.176, 0.15, 0.166, 0.166, 0.226, 0.202, 0.206, 0.18, 0.198, 0.22, 0.234, 0.196, 0.212, 0.198, 0.184, 0.208, 0.21, 0.23, 0.224, 0.194, 0.234, 0.216, 0.246, 0.216, 0.202, 0.222, 0.234, 0.204, 0.232, 0.22, 0.224, 0.22, 0.226, 0.216, 0.254, 0.214, 0.208, 0.206, 0.218, 0.228, 0.212, 0.216, 0.206, 0.216, 0.222, 0.218, 0.212, 0.248, 0.238, 0.224, 0.254, 0.27, 0.222, 0.234, 0.214, 0.236, 0.21, 0.236, 0.208, 0.258, 0.198, 0.222, 0.234, 0.218, 0.222, 0.228, 0.218, 0.236, 0.232, 0.23, 0.238, 0.222, 0.24, 0.218, 0.24, 0.218, 0.192, 0.22, 0.22, 0.216, 0.218, 0.23, 0.228, 0.24, 0.23, 0.236, 0.226, 0.212, 0.23, 0.25, 0.226, 0.248, 0.234, 0.232]\n"
          ]
        },
        {
          "output_type": "execute_result",
          "data": {
            "text/plain": [
              "<matplotlib.axes._subplots.AxesSubplot at 0x7f3e732b19a0>"
            ]
          },
          "metadata": {},
          "execution_count": 19
        },
        {
          "output_type": "display_data",
          "data": {
            "text/plain": [
              "<Figure size 432x288 with 1 Axes>"
            ],
            "image/png": "[encoded data removed]"
          },
          "metadata": {}
        }
      ],
      "source": [
        "accuracy_RFCE=[]\n",
        "for i in range(5,100):\n",
        "  est = RandomForestClassifier(n_estimators=i,max_depth=21)\n",
        "  est.fit(X_train,y_train)\n",
        "  accuracy_RFCE.append(accuracy_score(est.predict(X_test), y_test))\n",
        "print(\"Accuracy: \")\n",
        "print(accuracy_RFCE)\n",
        "\n",
        "sns.scatterplot(x=range(5,100), y=accuracy_RFCE)"
      ]
    },
    {
      "cell_type": "code",
      "execution_count": null,
      "metadata": {
        "id": "EW5oxIFWg06U",
        "colab": {
          "base_uri": "https://localhost:8080/"
        },
        "outputId": "27c99b35-18bb-4e96-ac93-1a2204f09f2a"
      },
      "outputs": [
        {
          "output_type": "stream",
          "name": "stdout",
          "text": [
            "La precisión del modelo con kernel linear es: 0.488\n",
            "La precisión del modelo con kernel poly es: 0.052\n",
            "La precisión del modelo con kernel rbf es: 0.022\n",
            "La precisión del modelo con kernel sigmoid es: 0.012\n"
          ]
        }
      ],
      "source": [
        "kernels = ['linear', 'poly', 'rbf', 'sigmoid']\n",
        "\n",
        "for kernel in kernels:\n",
        "    est = SVC(kernel=kernel)\n",
        "    est.fit(X_train, y_train)\n",
        "    y_pred = est.predict(X_test)\n",
        "    accuracy = accuracy_score(y_pred, y_test)\n",
        "    print(\"La precisión del modelo con kernel\", kernel, \"es:\", accuracy)"
      ]
    },
    {
      "cell_type": "markdown",
      "metadata": {
        "id": "BEy-mcoxCRdF"
      },
      "source": [
        "**Metodos de Regresion**\n"
      ]
    },
    {
      "cell_type": "code",
      "execution_count": null,
      "metadata": {
        "id": "OIxRFYQAndMX",
        "colab": {
          "base_uri": "https://localhost:8080/",
          "height": 812
        },
        "outputId": "67b22d82-2b56-4a7e-d714-2e9878059837"
      },
      "outputs": [
        {
          "output_type": "stream",
          "name": "stdout",
          "text": [
            "MSE depth split data :\n",
            "[74065.64156099196, 49689.528748509794, 40337.30864152279, 39230.39347992423, 74038.4917192689, 40321.586018140595, 45832.888, 70014.848, 30924.888, 39101.65, 74591.288, 70483.692, 36779.046, 44502.328, 27710.328, 35986.05, 66590.446, 47759.01, 58829.446, 36264.608, 29175.294, 34039.646, 43771.888, 67582.328, 47667.25, 60669.048, 46258.646, 74674.888, 29324.692, 39769.09, 75462.65, 61944.928, 45046.646, 32955.65, 44931.888, 37705.688, 60007.41, 73227.85, 41163.008, 70724.646, 48277.25, 72013.608, 34529.29, 29630.05, 37165.646, 62376.29, 35739.29, 36749.008, 61584.45, 65048.29, 74771.446, 31756.088, 32747.248, 71060.292, 45087.808, 37545.728, 68863.048, 37995.65, 58952.446, 75100.45, 69369.132, 33485.446, 73195.45, 67238.29, 38319.488, 32157.808, 67403.646, 42179.046, 70511.448, 58917.608, 42272.494, 45598.45, 44523.646, 61505.048, 32258.208, 37020.65, 67105.088, 41502.646, 76428.652, 38567.608, 57696.25, 72844.448, 40929.888, 73776.928, 67126.69, 70499.452, 70814.046, 45061.328, 42199.93, 40694.208, 41791.05, 51117.65, 34505.888, 49229.046, 40949.288]\n",
            "RMSE depth split data :\n",
            "[272.15003501927384, 222.91148186782527, 200.84150129274275, 198.06663898780184, 272.1001501639955, 200.80235560904308, 214.08616956730296, 264.60318970110694, 175.85473550632636, 197.74137149317033, 273.11405676017483, 265.4876494302513, 191.77863801789812, 210.95574891431616, 166.4641943482141, 189.69989457034498, 258.0512468483731, 218.53834903741722, 242.5478220887584, 190.43268626997835, 170.80776914414636, 184.49836313637041, 209.21732241857987, 259.96601316325945, 218.32830783020327, 246.31087673913225, 215.0782322783968, 273.2670635111374, 171.24453859904554, 199.4218894705393, 274.7046595891668, 248.88738015415728, 212.24195155529455, 181.53691084735357, 211.9714320374328, 194.17952518223956, 244.96409941050547, 270.6064485558317, 202.88668758693854, 265.94105737926213, 219.7208456200731, 268.35351311283404, 185.82058551193944, 172.13381422602592, 192.78393605277387, 249.7524574453673, 189.0483800512451, 191.70030777231423, 248.16214457487266, 255.04566257829205, 273.44367975873934, 178.20237933316153, 180.96200706225602, 266.5713638033913, 212.33889893281446, 193.76720052681776, 262.41769757392507, 194.92472906227164, 242.80124793748487, 274.04461315632534, 263.38020426751893, 182.99028935984555, 270.5465763967454, 259.3034708599173, 195.75364109001904, 179.3259825011423, 259.62212155361493, 205.3753782711063, 265.53991790312807, 242.72949552948856, 205.6027577636059, 213.53793573976498, 211.00627004902012, 248.00211289422515, 179.60570146852243, 192.40751024843078, 259.0464977566769, 203.72198212269583, 276.4573240122244, 196.38637427275856, 240.20043713532246, 269.8971063201679, 202.3113639912499, 271.61908622186326, 259.08818961890177, 265.517329001329, 266.1090866543268, 212.27653662145516, 205.42621546433648, 201.72805456852055, 204.42859389038512, 226.0921272402027, 185.7576054970563, 221.87619520804841, 202.35930420912206]\n",
            "MAE depth split data : \n",
            "[116.64697020027405, 63.02378296666853, 42.59786572888674, 34.23303823407997, 35.428875357227106, 24.81857142857143, 25.804, 28.96, 24.004, 27.082, 30.804, 28.68, 24.262, 26.224, 20.224, 22.466, 27.842, 28.742, 24.342, 22.66, 21.642, 22.682, 28.584, 27.624, 27.586, 25.904, 28.182, 31.324, 21.784, 26.206, 32.486, 26.364, 25.382, 21.506, 26.864, 23.884, 26.058, 32.006, 27.18, 30.902, 26.682, 31.76, 25.506, 22.002, 25.362, 26.982, 24.466, 24.58, 27.306, 26.246, 30.502, 22.524, 20.88, 29.504, 27.02, 25.724, 29.584, 24.866, 24.722, 31.626, 30.264, 24.942, 29.846, 28.182, 25.584, 22.7, 28.362, 26.462, 31.104, 24.64, 25.266, 27.666, 27.242, 27.504, 23.18, 25.046, 28.384, 28.142, 32.168, 25.88, 23.646, 28.88, 27.024, 30.844, 28.406, 31.528, 28.762, 27.484, 25.222, 27.9, 25.646, 28.946, 22.704, 28.182, 25.604]\n"
          ]
        },
        {
          "output_type": "display_data",
          "data": {
            "text/plain": [
              "<Figure size 432x288 with 1 Axes>"
            ],
            "image/png": "[encoded data removed]"
          },
          "metadata": {}
        },
        {
          "output_type": "display_data",
          "data": {
            "text/plain": [
              "<Figure size 1080x504 with 1 Axes>"
            ],
            "image/png": "[encoded data removed]"
          },
          "metadata": {}
        }
      ],
      "source": [
        "MSE_DTR=[]\n",
        "RMSE_DTR=[]\n",
        "MAE_DTR=[]\n",
        "for i in range(5,100):\n",
        "  regressor = DecisionTreeRegressor(max_depth=i)\n",
        "  regressor.fit(X_train,y_train)\n",
        "\n",
        "  MSE_DTR.append(mean_squared_error(y_test, regressor.predict(X_test)))\n",
        "  RMSE_DTR.append(np.sqrt(mean_squared_error(y_test, regressor.predict(X_test))))\n",
        "  MAE_DTR.append(mean_absolute_error(y_test, regressor.predict(X_test)))\n",
        "\n",
        "print(\"MSE depth split data :\")\n",
        "print(MSE_DTR)\n",
        "print(\"RMSE depth split data :\")\n",
        "print(RMSE_DTR)\n",
        "print(\"MAE depth split data : \")\n",
        "print(MAE_DTR)\n",
        "\n",
        "sns.scatterplot(x=range(5,100), y=MSE_DTR, label=\"MSE\")\n",
        "fig, ax = plt.subplots(figsize=(15,7))\n",
        "sns.scatterplot(x=range(5,100), y=RMSE_DTR,  ax=ax, label=\"RMSE\")\n",
        "sns.scatterplot(x=range(5,100), y=MAE_DTR, ax=ax, label=\"MAE\")\n",
        "ax.legend()\n",
        "plt.show()"
      ]
    },
    {
      "cell_type": "code",
      "execution_count": null,
      "metadata": {
        "id": "87Qaccvwn6Ev",
        "colab": {
          "base_uri": "https://localhost:8080/",
          "height": 649
        },
        "outputId": "59c28df4-5cce-48d3-ca92-e0b37b05e73d"
      },
      "outputs": [
        {
          "output_type": "stream",
          "name": "stdout",
          "text": [
            "MSE depth split data :\n",
            "[29470.292967991092, 22487.431938096914, 33746.69961876239, 26818.01748594218, 28449.665953223688, 19985.697469347222, 17447.661439685784, 14754.12278740002, 16994.03689719999, 17983.98151099999, 26214.174589999988, 19788.720463799997, 13347.617834199988, 19733.52841260002, 23834.75899520001, 21099.40024179999, 22769.07692339998, 23305.32473039998, 16242.485193199993, 20052.381306200008, 17926.301853000008, 29694.086898999994, 24254.504692200007, 31938.365919599975, 22936.672679799976, 20506.469140999987, 23943.217534599997, 18188.952847599987, 22832.71512559999, 29993.989297999997, 22731.410748000017, 26969.27573240002, 26427.406567399994, 20173.48807539998, 19204.76152300001, 20289.254545000007, 35106.87476139999, 25887.905792800007, 16160.08747020001, 21463.892524799994, 22801.88426239999, 19837.615852600014, 20418.10909259998, 24306.237213400018, 19427.555143200003, 33740.45344400001, 35146.9403774, 27539.57052139999, 24734.947398399992, 20706.351764800023, 22835.3014964, 25144.477905, 23400.692190199978, 17661.02118340001, 31871.215477599988, 17993.799113, 22080.49352360001, 16427.103916000007, 28445.362792199972, 23622.883342600002, 23955.309888200012, 18998.54929979998, 21688.316074800015, 22496.264153400014, 21563.35512700002, 31917.423093600013, 22193.890500799982, 22835.765998199993, 30751.475807799998, 31396.643125399984, 25156.764158800015, 23549.43748680001, 25758.061782200024, 26937.767826999992, 33526.55377979997, 25883.262251600005, 29483.414059000028, 20077.91300740001, 30107.539113999974, 17010.89350260001, 19885.080568199995, 25387.391195200005, 22532.530481000005, 27578.86872579998, 30264.805030199997, 26815.11021099999, 25704.78639199998, 24182.68891159999, 31038.801258399995, 21688.196252400005, 24458.522044199977, 14443.45643740001, 22164.6387396, 21612.68316139999, 30019.229122000008]\n",
            "RMSE depth split data :\n",
            "[171.66913807668254, 149.9581006084597, 183.70274798914247, 163.7620758476827, 168.67028770125367, 141.37078011154648, 132.08959625831923, 121.46655007614244, 130.36117864303003, 134.10436797882457, 161.90792009657832, 140.67238699830182, 115.53189098339898, 140.4760777235755, 154.38509965407934, 145.25632599580644, 150.89425742353478, 152.6608159627086, 127.44600893397954, 141.6064310199223, 133.8891401608062, 172.3197228961328, 155.73857804731622, 178.71308267611516, 151.44858097651485, 143.20080007108893, 154.73596070274033, 134.86642594656382, 151.10498047913572, 173.18772848559448, 150.7693959263617, 164.22324967068462, 162.56508409680103, 142.03340478704288, 138.58124520655747, 142.44035434173844, 187.36828643449775, 160.8971901333271, 127.12233269650147, 146.50560577943764, 151.00292799280413, 140.8460714844401, 142.89194901253177, 155.904577268918, 139.38276487141445, 183.6857464366792, 187.4751726960133, 165.95050624026427, 157.273479641038, 143.89701791489642, 151.1135384285604, 158.57010407072323, 152.97284788549888, 132.8947748536413, 178.52511161626532, 134.1409673179674, 148.59506560986475, 128.16826407500417, 168.65753108651856, 153.69737584812566, 154.7750299247266, 137.8352251777461, 147.26953546066483, 149.98754666104787, 146.8446632567899, 178.65447963485275, 148.9761407098465, 151.115075350542, 175.36098713168786, 177.1909792438655, 158.6088401029401, 153.4582597542407, 160.4931829773465, 164.1272915361732, 183.10257720687596, 160.88275933610788, 171.70735004361353, 141.6965525600394, 173.51524173397556, 130.42581608945375, 141.01446935758045, 159.3342122558743, 150.10839577118932, 166.06886741891142, 173.9678275722267, 163.7531990863079, 160.32712307030266, 155.507841961748, 176.1783223282592, 147.2691286468417, 156.39220582944657, 120.18093208741564, 148.87793234593232, 147.01252722608365, 173.26058155852994]\n",
            "MAE depth split data : \n",
            "[43.62396464560281, 24.638821958547393, 21.232167845304183, 17.67500349026384, 17.808575095786335, 15.725492932115602, 15.294387553485155, 15.012060000000004, 15.726959999999991, 15.504139999999989, 17.214160000000003, 15.979659999999994, 13.11813999999999, 15.431299999999991, 17.1566, 15.73313999999999, 16.113860000000006, 16.609679999999994, 15.527479999999997, 15.705699999999993, 15.914180000000004, 16.844739999999977, 16.880779999999998, 17.056479999999993, 15.19041999999999, 15.974779999999992, 16.77158, 15.250079999999983, 15.946999999999987, 18.12828, 15.932040000000004, 17.116000000000007, 16.772699999999997, 15.790259999999991, 15.40881999999998, 15.094019999999992, 19.098499999999987, 16.665239999999994, 15.74789999999999, 17.295239999999982, 15.593759999999989, 14.88381999999999, 15.478059999999997, 16.533219999999996, 16.812479999999994, 18.891919999999985, 17.34973999999999, 16.888939999999998, 16.095359999999992, 15.259840000000002, 15.97391999999999, 17.003740000000004, 16.77777999999999, 15.489939999999994, 17.604760000000002, 15.241059999999989, 15.80824000000001, 15.58755999999999, 17.159819999999986, 16.208659999999984, 16.213219999999982, 15.525459999999986, 16.79283999999999, 16.654099999999993, 16.34066, 16.586959999999998, 15.757119999999992, 15.821739999999991, 16.790059999999993, 16.897460000000002, 16.370719999999995, 16.227160000000005, 16.46538, 16.49089999999999, 18.245259999999984, 16.436799999999987, 16.82006, 16.21593999999999, 17.86919999999998, 15.367739999999998, 16.217619999999993, 17.418319999999973, 16.47325999999999, 16.394380000000005, 17.041019999999993, 16.02953999999999, 16.544359999999994, 16.61407999999998, 17.296039999999994, 16.869519999999987, 16.70217999999999, 14.5037, 14.769519999999993, 16.421459999999982, 16.87091999999999]\n"
          ]
        },
        {
          "output_type": "display_data",
          "data": {
            "text/plain": [
              "<Figure size 432x288 with 1 Axes>"
            ],
            "image/png": "[encoded data removed]"
          },
          "metadata": {}
        },
        {
          "output_type": "display_data",
          "data": {
            "text/plain": [
              "<Figure size 432x288 with 1 Axes>"
            ],
            "image/png": "[encoded data removed]"
          },
          "metadata": {}
        }
      ],
      "source": [
        "MSE_RFR=[]\n",
        "RMSE_RFR=[]\n",
        "MAE_RFR=[]\n",
        "for i in range(5,100):\n",
        "  regressor = RandomForestRegressor(max_depth=i)\n",
        "  regressor.fit(X_train,y_train)\n",
        "\n",
        "  MSE_RFR.append(mean_squared_error(y_test, regressor.predict(X_test)))\n",
        "  RMSE_RFR.append(np.sqrt(mean_squared_error(y_test, regressor.predict(X_test))))\n",
        "  MAE_RFR.append(mean_absolute_error(y_test, regressor.predict(X_test)))\n",
        "\n",
        "print(\"MSE depth split data :\")\n",
        "print(MSE_RFR)\n",
        "print(\"RMSE depth split data :\")\n",
        "print(RMSE_RFR)\n",
        "print(\"MAE depth split data : \")\n",
        "print(MAE_RFR)\n",
        "\n",
        "sns.scatterplot(x=range(5,100), y=MSE_RFR, label=\"MSE\")\n",
        "fig, ax = plt.subplots()\n",
        "sns.scatterplot(x=range(5,100), y=RMSE_RFR,  ax=ax, label=\"RMSE\")\n",
        "sns.scatterplot(x=range(5,100), y=MAE_RFR, ax=ax, label=\"MAE\")\n",
        "ax.legend()\n",
        "plt.show()"
      ]
    },
    {
      "cell_type": "code",
      "execution_count": null,
      "metadata": {
        "id": "ijyCTnt4OQ5c",
        "colab": {
          "base_uri": "https://localhost:8080/",
          "height": 649
        },
        "outputId": "b55bb6e3-a53d-478a-8957-44c54df6c09c"
      },
      "outputs": [
        {
          "output_type": "stream",
          "name": "stdout",
          "text": [
            "MSE depth split data :\n",
            "[4102.763040000002, 30112.020333333334, 28283.513387755105, 23565.96984375, 18122.137185185195, 26326.11958, 23123.98907438018, 33052.334833333334, 67724.57031952664, 16260.307836734708, 53599.49555555553, 26933.9196484375, 16154.72883044982, 103594.09980246914, 33716.8138060942, 21026.23318, 25701.724489795888, 82401.81266115703, 45645.739311909245, 25640.460003472224, 14962.543827200006, 21511.875710059157, 19325.95875171469, 27578.491431122446, 15742.472242568383, 16417.063740000016, 13592.176828303858, 12562.80896875, 29226.000751147858, 52175.11433910032, 27026.72952979594, 14635.417489197525, 23948.15056829803, 50264.57451108034, 22248.20320973046, 17823.482706249997, 31001.664462819757, 24758.658495464846, 24947.021930773408, 18104.474869834703, 26130.619413333345, 37810.4316672968, 30862.191414214554, 18503.14865972221, 15717.969516034973, 33624.87704079997, 21271.778447520166, 32657.45453032546, 27611.274057671777, 56524.28282167352, 17452.66494214875, 24125.206153061223, 22895.49889750692, 18475.445580261592, 43948.619848319475, 22554.35106722224, 28937.715565708182, 47742.7516508845, 28482.966699924422, 26864.746794433595, 21918.86925491124, 28652.03424885217, 24717.91823256851, 44121.458517733576, 17486.895413568556, 29108.596523265303, 25974.660630430488, 25519.442304398133, 22492.77300656783, 27690.41048977357, 22855.690824177796, 19934.6957036011, 23972.925599257887, 29403.744934582537, 28924.167682102227, 22838.781668437503, 22335.148072549906, 31965.223955383724, 24515.774212803022, 20772.398714002255, 26749.680530103804, 22570.78066711736, 23315.23440507331, 16139.363971849181, 22375.420676682243, 29721.97106592594, 21683.75315203478, 25432.787324196626, 27860.014964273352, 24306.523275237683, 39159.09181163436, 27047.217468967003, 29981.703087044312, 20967.88365077052, 27858.100270992793]\n",
            "RMSE depth split data :\n",
            "[64.05281445807047, 173.52815429587596, 168.17702990526115, 153.51211627669656, 134.61848753119014, 162.25325753278423, 152.0657393181652, 181.8030110678405, 260.23944804646095, 127.51591209231383, 231.51564861917115, 164.11556796488716, 127.10125424420414, 321.8603731472222, 183.6213871151566, 145.0042522824762, 160.317573864489, 287.0571592229621, 213.6486351744594, 160.12638759265204, 122.32147737498924, 146.6692732308276, 139.017836092045, 166.0677314565429, 125.46900909215942, 128.12909013959327, 116.58549150003125, 112.08393715760523, 170.95613692157372, 228.41872589413575, 164.39808250036234, 120.97692957418586, 154.7519000474567, 224.19762378553511, 149.15831592549728, 133.50461679751004, 176.07289530992486, 157.34884332420384, 157.94626279457646, 134.55287016572595, 161.64968114207136, 194.44904645509783, 175.67638263071834, 136.02627929823785, 125.37132653057067, 183.3708729346075, 145.84847770038658, 180.71373641847336, 166.16640472030372, 237.74836029229206, 132.10853470593318, 155.32290929885784, 151.31258671210045, 135.92441127428728, 209.63926122823338, 150.18106094718547, 170.1108919667056, 218.50114793951198, 168.76897434044096, 163.90468814049706, 148.05022544701254, 169.26911782381384, 157.21933161214147, 210.05108549525178, 132.23802559615203, 170.61241608764968, 161.16656176276297, 159.7480588439125, 149.97590808715856, 166.40435838575132, 151.18098697977135, 141.1902819021235, 154.83192693775365, 171.47520209809502, 170.07106656366398, 151.1250530800155, 149.44948334654725, 178.78820977733326, 156.57513919138958, 144.126329010359, 163.55329568707506, 150.2357502963837, 152.69326902346845, 127.04079648620431, 149.58415917697383, 172.4006121390697, 147.25404290556773, 159.47660431610848, 166.91319589617038, 155.90549469225797, 197.88656298908816, 164.46038267305292, 173.15225406284583, 144.8029131294344, 166.90746020173214]\n",
            "MAE depth split data : \n",
            "[14.683200000000001, 22.00133333333332, 22.119999999999994, 20.11375, 17.31200000000001, 19.0698, 17.933636363636392, 18.590666666666657, 23.83046153846155, 16.52628571428573, 21.569599999999998, 17.919125, 17.755058823529414, 23.361555555555558, 20.562947368421067, 17.535, 18.17714285714283, 23.95781818181819, 18.62852173913043, 19.86508333333334, 16.214560000000017, 16.66076923076923, 16.507629629629637, 19.1542142857143, 15.727034482758638, 15.751133333333339, 15.805935483870957, 15.58175, 19.086969696969692, 19.089999999999996, 15.963028571428564, 15.62061111111112, 15.991351351351357, 20.51299999999999, 16.25697435897434, 15.522549999999999, 17.96941463414635, 17.337952380952377, 18.376697674418605, 14.841636363636374, 17.232888888888883, 19.284260869565205, 17.028127659574455, 16.21683333333332, 15.252816326530594, 18.257240000000017, 17.805215686274526, 17.364730769230764, 16.623471698113207, 21.165629629629635, 14.99189090909091, 17.40457142857141, 16.64838596491228, 15.461862068965525, 19.37742372881358, 15.500366666666674, 18.317180327868865, 18.800741935483877, 16.490603174603173, 17.25578125, 15.199292307692327, 17.08678787878788, 17.914119402985083, 19.088794117647076, 15.204289855072458, 16.870742857142854, 16.761211267605614, 17.56702777777779, 17.416821917808218, 16.766243243243256, 16.90445333333335, 15.238263157894732, 16.40002597402598, 17.569512820512823, 16.990227848101256, 17.417075, 16.24237037037038, 17.498975609756073, 18.0831325301205, 15.938595238095226, 15.95677647058822, 15.482162790697675, 16.201057471264367, 14.66306818181817, 16.881078651685407, 17.19028888888889, 15.004483516483516, 16.179826086956535, 16.62956989247311, 16.62855319148936, 18.956505263157894, 16.590854166666663, 16.832804123711348, 16.412183673469386, 16.92303030303032]\n"
          ]
        },
        {
          "output_type": "display_data",
          "data": {
            "text/plain": [
              "<Figure size 432x288 with 1 Axes>"
            ],
            "image/png": "[encoded data removed]"
          },
          "metadata": {}
        },
        {
          "output_type": "display_data",
          "data": {
            "text/plain": [
              "<Figure size 432x288 with 1 Axes>"
            ],
            "image/png": "[encoded data removed]"
          },
          "metadata": {}
        }
      ],
      "source": [
        "MSE_RFRE=[]\n",
        "RMSE_RFRE=[]\n",
        "MAE_RFRE=[]\n",
        "for i in range(5,100):\n",
        "  regressor = RandomForestRegressor(n_estimators=i,max_depth=21)\n",
        "  regressor.fit(X_train,y_train)\n",
        "\n",
        "  mse_rf = mean_squared_error(y_test, regressor.predict(X_test))\n",
        "  MSE_RFRE.append(mean_squared_error(y_test, regressor.predict(X_test)))\n",
        "  RMSE_RFRE.append(np.sqrt(mean_squared_error(y_test, regressor.predict(X_test))))\n",
        "  MAE_RFRE.append(mean_absolute_error(y_test, regressor.predict(X_test)))\n",
        "\n",
        "print(\"MSE depth split data :\")\n",
        "print(MSE_RFRE)\n",
        "print(\"RMSE depth split data :\")\n",
        "print(RMSE_RFRE)\n",
        "print(\"MAE depth split data : \")\n",
        "print(MAE_RFRE)\n",
        "\n",
        "sns.scatterplot(x=range(5,100), y=MSE_RFRE, label=\"MSE\")\n",
        "fig, ax = plt.subplots()\n",
        "sns.scatterplot(x=range(5,100), y=RMSE_RFRE,  ax=ax, label=\"RMSE\")\n",
        "sns.scatterplot(x=range(5,100), y=MAE_RFRE, ax=ax, label=\"MAE\")\n",
        "ax.legend()\n",
        "plt.show()"
      ]
    },
    {
      "cell_type": "code",
      "execution_count": null,
      "metadata": {
        "id": "cwp5jTKl-SiF"
      },
      "outputs": [],
      "source": [
        "Name = \"Goku Sayan\" #@param {type:\"string\"}\n",
        "Platform = \"Wii\" #@param {type:\"string\"}\n",
        "Year = \"2006\" #@param {type:\"string\"}\n",
        "Genre = \"Action\" #@param {type:\"string\"}\n",
        "Publisher = \"Nintendo\" #@param {type:\"string\"}\n",
        "Rank = \"1\""
      ]
    },
    {
      "cell_type": "code",
      "execution_count": null,
      "metadata": {
        "id": "emGllv5NRs1B",
        "colab": {
          "base_uri": "https://localhost:8080/"
        },
        "outputId": "411f60fa-053f-48ef-88bf-3117fe25d5c0"
      },
      "outputs": [
        {
          "output_type": "stream",
          "name": "stdout",
          "text": [
            "El nombre es el numero 0\n",
            "La plataforma es el numero 20\n",
            "El genero es el numero 0\n",
            "El desarrollador es el numero 57\n"
          ]
        },
        {
          "output_type": "execute_result",
          "data": {
            "text/plain": [
              "['1', 0, 20, '2006', 0, 57]"
            ]
          },
          "metadata": {},
          "execution_count": 32
        }
      ],
      "source": [
        "position_name = np.argmax(class_names == Name)\n",
        "if position_name.size > 0:\n",
        "    Namet = position_name\n",
        "    print(\"El nombre es el numero\", position_name)\n",
        "else:\n",
        "    class_names = np.append(class_names, Name)\n",
        "    Namet = len(class_names)\n",
        "    print(\"El nombre fue agregado con el numero\", Namet)\n",
        "\n",
        "position_platform = np.argmax(class_platform == Platform)\n",
        "if position_platform.size > 0:\n",
        "    Platformt = position_platform\n",
        "    print(\"La plataforma es el numero\", position_platform)\n",
        "else:\n",
        "    class_platform = np.append(class_platform, Platform)\n",
        "    Platformt = len(class_platform)\n",
        "    print(\"La plataforma fue agregada con el numero\", Platformt)\n",
        "\n",
        "position_genre = np.argmax(class_genre == Genre)\n",
        "if position_genre.size > 0:\n",
        "    Genret = position_genre\n",
        "    print(\"El genero es el numero\", position_genre)\n",
        "else:\n",
        "    class_genre = np.append(class_genre, Genre)\n",
        "    Genret = len(class_genre)\n",
        "    print(\"El genero fue agregado con el numero\", Genret)\n",
        "\n",
        "position_publisher = np.argmax(class_publisher == Publisher)\n",
        "if position_publisher.size > 0:\n",
        "    Publishert = position_publisher\n",
        "    print(\"El desarrollador es el numero\", position_publisher)\n",
        "else:\n",
        "    class_publisher = np.append(class_publisher, Publisher)\n",
        "    Publishert = len(class_publisher)\n",
        "    print(\"El desarrollador fue agregado con el numero\", Publishert)\n",
        "\n",
        "Game_test = [Rank,Namet, Platformt, Year, Genret, Publishert]\n",
        "Game_test"
      ]
    },
    {
      "cell_type": "code",
      "source": [
        "Game_test = pd.DataFrame(Game_test)\n",
        "Game_test = Game_test.transpose()\n",
        "\n",
        "prediction={}\n",
        "\n",
        "estG = GaussianNB()\n",
        "estG.fit(X_train,y_train)\n",
        "predG = estG.predict(Game_test)\n",
        "prediction['GaussianNB'] = predG\n",
        "\n",
        "est = DecisionTreeClassifier(max_depth=25)\n",
        "est.fit(X_train,y_train)\n",
        "predDC = est.predict(Game_test)\n",
        "prediction['DecisionTreeClassifier'] = predDC\n",
        "\n",
        "est = RandomForestClassifier(n_estimators=20 , max_depth=19)\n",
        "est.fit(X_train,y_train)\n",
        "predRC = est.predict(Game_test)\n",
        "prediction['RandomForestClassifier'] = predRC\n",
        "\n",
        "est = SVC(kernel='linear')\n",
        "est.fit(X_train, y_train)\n",
        "predSVC = est.predict(Game_test)\n",
        "\n",
        "est = DecisionTreeRegressor(max_depth=21)\n",
        "est.fit(X_train,y_train)\n",
        "predDC = est.predict(Game_test)\n",
        "prediction['DecisionTreeRegressor'] = predDC\n",
        "\n",
        "est = RandomForestRegressor(n_estimators=21 , max_depth=20)\n",
        "est.fit(X_train,y_train)\n",
        "predRC = est.predict(Game_test)\n",
        "prediction['RandomForestRegressor'] = predRC\n",
        "\n",
        "\n",
        "prediction"
      ],
      "metadata": {
        "id": "Ovl9aZB16k2g",
        "colab": {
          "base_uri": "https://localhost:8080/"
        },
        "outputId": "f1720b19-7090-4c83-cb62-8dad27e72e27"
      },
      "execution_count": null,
      "outputs": [
        {
          "output_type": "execute_result",
          "data": {
            "text/plain": [
              "{'GaussianNB': array([14640]),\n",
              " 'DecisionTreeClassifier': array([2790]),\n",
              " 'RandomForestClassifier': array([1490]),\n",
              " 'DecisionTreeRegressor': array([82740.]),\n",
              " 'RandomForestRegressor': array([56770.47619048])}"
            ]
          },
          "metadata": {},
          "execution_count": 33
        }
      ]
    }
  ],
  "metadata": {
    "colab": {
      "provenance": []
    },
    "kernelspec": {
      "display_name": "Python 3",
      "name": "python3"
    },
    "language_info": {
      "name": "python"
    }
  },
  "nbformat": 4,
  "nbformat_minor": 0
}